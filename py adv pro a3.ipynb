{
 "cells": [
  {
   "cell_type": "code",
   "execution_count": 1,
   "id": "866a8eab",
   "metadata": {},
   "outputs": [
    {
     "data": {
      "text/plain": [
       "47.07918859608948"
      ]
     },
     "execution_count": 1,
     "metadata": {},
     "output_type": "execute_result"
    }
   ],
   "source": [
    "# 2. Write a function that takes the coordinates of three points in the form of a 2d array and returns the perimeter of the triangle. The given points are the vertices of a triangle on a two-dimensional plane.\n",
    "def perimeter(x,y,z):\n",
    "    import numpy as np\n",
    "    a= np.sqrt(((x[0]-y[0])**2)+(x[1]-y[1])**2)\n",
    "    b= np.sqrt((x[0]-z[0])**2+(x[1]-z[1])**2)\n",
    "    c= np.sqrt((z[0]-y[0])**2+(z[1]-y[1])**2)\n",
    "    d= a+b+c\n",
    "    return d\n",
    "\n",
    "perimeter([15, 7], [5, 22], [11, 1])"
   ]
  },
  {
   "cell_type": "code",
   "execution_count": 2,
   "id": "2a2ba69a",
   "metadata": {},
   "outputs": [
    {
     "data": {
      "text/plain": [
       "4"
      ]
     },
     "execution_count": 2,
     "metadata": {},
     "output_type": "execute_result"
    }
   ],
   "source": [
    "def tallest_skyscraper(x,y,z,s):\n",
    "    a= x[0]+y[0]+z[0]+s[0]\n",
    "    b= x[1]+y[1]+z[1]+s[1]\n",
    "    c= x[2]+y[2]+z[2]+s[2]\n",
    "    d= x[3]+y[3]+z[3]+s[3]\n",
    "    \n",
    "    r= max(a,b,c,d)\n",
    "    return r\n",
    "\n",
    "tallest_skyscraper(   [0, 1, 0, 0],\n",
    "  [0, 1, 0, 0],\n",
    "  [0, 1, 1, 0],\n",
    "  [1, 1, 1, 1]\n",
    ")"
   ]
  },
  {
   "cell_type": "code",
   "execution_count": null,
   "id": "7b880600",
   "metadata": {},
   "outputs": [],
   "source": [
    "# 5. A number is said to be Disarium if the sum of its digits raised to their respective positions is the number itself.Create a function that determines whether a number is a Disarium or not.\n",
    "\n",
    "def is_disarium(x):\n",
    "    def check(n):\n",
    "        import math\n",
    "\n",
    "        def findLen(str):\n",
    "            counter = 0    \n",
    "            for i in str:\n",
    "                counter += 1\n",
    "            return counter\n",
    "\n",
    "        count_digits = findLen(str(n))\n",
    "\n",
    "        sums = 0  \n",
    "        rem = 0\n",
    "\n",
    "        while(n > 0):    \n",
    "            rem = n%10;    \n",
    "            sums = sums + int(rem**count_digits);    \n",
    "            n = n//10;    \n",
    "            count_digits = count_digits - 1;   \n",
    "        return sums\n",
    "    \n",
    "    if(check(n) == x):    \n",
    "        print(\"True\");    \n",
    "    else:    \n",
    "        print(\"False\");\n",
    "        \n",
    "is_disarium(544)"
   ]
  },
  {
   "cell_type": "markdown",
   "id": "6fda6d54",
   "metadata": {},
   "source": [
    "False"
   ]
  }
 ],
 "metadata": {
  "kernelspec": {
   "display_name": "Python 3",
   "language": "python",
   "name": "python3"
  },
  "language_info": {
   "codemirror_mode": {
    "name": "ipython",
    "version": 3
   },
   "file_extension": ".py",
   "mimetype": "text/x-python",
   "name": "python",
   "nbconvert_exporter": "python",
   "pygments_lexer": "ipython3",
   "version": "3.8.8"
  }
 },
 "nbformat": 4,
 "nbformat_minor": 5
}
