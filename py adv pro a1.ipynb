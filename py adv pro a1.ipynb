{
 "cells": [
  {
   "cell_type": "markdown",
   "id": "32e5b77e",
   "metadata": {},
   "source": [
    "Q1. Write a function that takes a list of lists and returns the value of all of the symbols in it, where each symbol adds or takes something from the total score. Symbol values:\n",
    "\n",
    "# = 5\n",
    "\n",
    "O = 3\n",
    "\n",
    "X = 1\n",
    "\n",
    "! = -1\n",
    "\n",
    "!! = -3\n",
    "\n",
    "!!! = -5\n",
    "\n",
    "A list of lists containing 2 #s, a O, and a !!! would equal (0 + 5 + 5 + 3 - 5) 8.\n",
    "\n",
    "If the final score is negative, return 0 (e.g. 3 #s, 3 !!s, 2 !!!s and a X would be\n",
    "\n",
    "(0 + 5 + 5 + 5 - 3 - 3 - 3 - 5 - 5 + 1) -3, so return 0.\n",
    "\n",
    "Examples\n",
    "\n",
    "check_score([\n",
    "\n",
    "[\"#\", \"!\"],\n",
    "\n",
    "[\"!!\", \"X\"]\n",
    "\n",
    "]) ➞ 2\n",
    "\n",
    "check_score([\n",
    "\n",
    "[\"!!!\", \"O\", \"!\"],\n",
    "\n",
    "[\"X\", \"#\", \"!!!\"],\n",
    "\n",
    "[\"!!\", \"X\", \"O\"]\n",
    "\n",
    "]) ➞ 0"
   ]
  },
  {
   "cell_type": "code",
   "execution_count": 1,
   "id": "222bc294",
   "metadata": {},
   "outputs": [],
   "source": [
    "def check_score(l):\n",
    "    sym = { '#' : 5, 'O' : 3, 'X' : 1, '!' : -1, '!!' : -3, '!!!' : -5}\n",
    "    answer = ''\n",
    "    for i in l:\n",
    "        for j in i:\n",
    "            answer = answer + '+' + \"(\" + str(sym[j]) + ')'\n",
    "    print(answer)\n",
    "    if eval(answer)<0:\n",
    "        return 0\n",
    "    else:\n",
    "        return eval(answer)    "
   ]
  },
  {
   "cell_type": "code",
   "execution_count": 2,
   "id": "f02fc60c",
   "metadata": {},
   "outputs": [
    {
     "name": "stdout",
     "output_type": "stream",
     "text": [
      "+(5)+(-1)+(-3)+(1)\n"
     ]
    },
    {
     "data": {
      "text/plain": [
       "2"
      ]
     },
     "execution_count": 2,
     "metadata": {},
     "output_type": "execute_result"
    }
   ],
   "source": [
    "check_score([\n",
    "[\"#\", \"!\"],\n",
    "[\"!!\", \"X\"]\n",
    "])"
   ]
  },
  {
   "cell_type": "code",
   "execution_count": 3,
   "id": "9d22aa4f",
   "metadata": {},
   "outputs": [
    {
     "name": "stdout",
     "output_type": "stream",
     "text": [
      "+(-5)+(3)+(-1)+(1)+(5)+(-5)+(-3)+(1)+(3)\n"
     ]
    },
    {
     "data": {
      "text/plain": [
       "0"
      ]
     },
     "execution_count": 3,
     "metadata": {},
     "output_type": "execute_result"
    }
   ],
   "source": [
    "check_score([\n",
    "[\"!!!\", \"O\", \"!\"],\n",
    "[\"X\", \"#\", \"!!!\"],\n",
    "[\"!!\", \"X\", \"O\"]\n",
    "])\n"
   ]
  },
  {
   "cell_type": "markdown",
   "id": "45cf44e9",
   "metadata": {},
   "source": [
    "Q2. Create a function that takes a variable number of arguments, each argument representing the number of items in a group, and returns the number of permutations (combinations) of items that you could get by taking one item from each group.\n",
    "\n",
    "Examples\n",
    "\n",
    "combinations(2, 3) ➞ 6\n",
    "\n",
    "combinations(3, 7, 4) ➞ 84\n",
    "\n",
    "combinations(2, 3, 4, 5) ➞ 120"
   ]
  },
  {
   "cell_type": "code",
   "execution_count": 4,
   "id": "5078c215",
   "metadata": {},
   "outputs": [
    {
     "name": "stdout",
     "output_type": "stream",
     "text": [
      "120\n"
     ]
    }
   ],
   "source": [
    "def combinations(*arguments):\n",
    "    total = 1\n",
    "    for number in arguments:\n",
    "        total *= number\n",
    "    print(total)\n",
    "    \n",
    "combinations(2,3,4,5)"
   ]
  },
  {
   "cell_type": "code",
   "execution_count": 5,
   "id": "e1948802",
   "metadata": {},
   "outputs": [
    {
     "name": "stdout",
     "output_type": "stream",
     "text": [
      "6\n"
     ]
    }
   ],
   "source": [
    "combinations(2, 3)"
   ]
  },
  {
   "cell_type": "code",
   "execution_count": 6,
   "id": "bcba40b6",
   "metadata": {},
   "outputs": [
    {
     "name": "stdout",
     "output_type": "stream",
     "text": [
      "84\n"
     ]
    }
   ],
   "source": [
    "combinations(3, 7, 4)"
   ]
  },
  {
   "cell_type": "markdown",
   "id": "8467df2c",
   "metadata": {},
   "source": [
    "Q3. Create a function that takes a string as an argument and returns the Morse code equivalent.\n",
    "\n",
    "Examples\n",
    "\n",
    "encode_morse(\"EDABBIT CHALLENGE\") ➞ \". -.. .- -... -... .. - -.-. .... .- .-.. .-..\n",
    "\n",
    ". -. --. .\"\n",
    "\n",
    "encode_morse(\"HELP ME !\") ➞ \".... . .-.. .--. -- . -.-.--\"\n",
    "\n",
    "This dictionary can be used for coding:\n",
    "\n",
    "char_to_dots = {\n",
    "\n",
    "'A': '.-', 'B': '-...', 'C': '-.-.', 'D': '-..', 'E': '.', 'F': '..-.',\n",
    "\n",
    "'G': '--.', 'H': '....', 'I': '..', 'J': '.---', 'K': '-.-', 'L': '.-..',\n",
    "\n",
    "'M': '--', 'N': '-.', 'O': '---', 'P': '.--.', 'Q': '--.-', 'R': '.-.',\n",
    "\n",
    "'S': '...', 'T': '-', 'U': '..-', 'V': '...-', 'W': '.--', 'X': '-..-',\n",
    "\n",
    "'Y': '-.--', 'Z': '--..', ' ': ' ', '0': '-----',\n",
    "\n",
    "'1': '.----', '2': '..---', '3': '...--', '4': '....-', '5': '.....',\n",
    "\n",
    "'6': '-....', '7': '--...', '8': '---..', '9': '----.',\n",
    "\n",
    "'&': '.-...', \"'\": '.----.', '@': '.--.-.', ')': '-.--.-', '(': '-.--.',\n",
    "\n",
    "':': '---...', ',': '--..--', '=': '-...-', '!': '-.-.--', '.': '.-.-.-',\n",
    "\n",
    "'-': '-....-', '+': '.-.-.', '\"': '.-..-.', '?': '..--..', '/': '-..-.'\n",
    "\n",
    "}"
   ]
  },
  {
   "cell_type": "code",
   "execution_count": 8,
   "id": "d60682b2",
   "metadata": {},
   "outputs": [
    {
     "data": {
      "text/plain": [
       "'. -.. .- -... -... .. -   -.-. .... .- .-.. .-.. . -. --. .'"
      ]
     },
     "execution_count": 8,
     "metadata": {},
     "output_type": "execute_result"
    }
   ],
   "source": [
    "char_to_dots = {\n",
    "  'A': '.-', 'B': '-...', 'C': '-.-.', 'D': '-..', 'E': '.', 'F': '..-.',\n",
    "  'G': '--.', 'H': '....', 'I': '..', 'J': '.---', 'K': '-.-', 'L': '.-..',\n",
    "  'M': '--', 'N': '-.', 'O': '---', 'P': '.--.', 'Q': '--.-', 'R': '.-.',\n",
    "  'S': '...', 'T': '-', 'U': '..-', 'V': '...-', 'W': '.--', 'X': '-..-',\n",
    "  'Y': '-.--', 'Z': '--..', ' ': ' ', '0': '-----',\n",
    "  '1': '.----', '2': '..---', '3': '...--', '4': '....-', '5': '.....',\n",
    "  '6': '-....', '7': '--...', '8': '---..', '9': '----.',\n",
    "  '&': '.-...', \"'\": '.----.', '@': '.--.-.', ')': '-.--.-', '(': '-.--.',\n",
    "  ':': '---...', ',': '--..--', '=': '-...-', '!': '-.-.--', '.': '.-.-.-',\n",
    "  '-': '-....-', '+': '.-.-.', '\"': '.-..-.', '?': '..--..', '/': '-..-.'\n",
    "}\n",
    "\n",
    "def encode_morse(message):\n",
    "  nl = []\n",
    "  global char_to_dots\n",
    "  char_to_dots = {k.lower(): v for k, v in char_to_dots.items()}\n",
    "\n",
    "  for w in message.lower():\n",
    "    for c in w:\n",
    "      if c in char_to_dots:\n",
    "        nl.append(char_to_dots[c])\n",
    "  return ' '.join(nl)\n",
    "\n",
    "encode_morse('EDABBIT CHALLENGE')"
   ]
  },
  {
   "cell_type": "code",
   "execution_count": 9,
   "id": "732ab549",
   "metadata": {},
   "outputs": [
    {
     "data": {
      "text/plain": [
       "'.... . .-.. .--.   -- .   -.-.--'"
      ]
     },
     "execution_count": 9,
     "metadata": {},
     "output_type": "execute_result"
    }
   ],
   "source": [
    "encode_morse(\"HELP ME !\")"
   ]
  },
  {
   "cell_type": "markdown",
   "id": "30ebbf90",
   "metadata": {},
   "source": [
    "Q4. Write a function that takes a number and returns True if it's a prime; False otherwise. The number can be 2^64-1 (2 to the power of 63, not XOR). With the standard technique it would be O(2^64-1), which is much too large for the 10 second time limit.\n",
    "\n",
    "Examples\n",
    "\n",
    "prime(7) ➞ True\n",
    "\n",
    "prime(56963) ➞ True\n",
    "\n",
    "prime(5151512515524) ➞ False"
   ]
  },
  {
   "cell_type": "code",
   "execution_count": 10,
   "id": "6d4a288d",
   "metadata": {},
   "outputs": [
    {
     "data": {
      "text/plain": [
       "True"
      ]
     },
     "execution_count": 10,
     "metadata": {},
     "output_type": "execute_result"
    }
   ],
   "source": [
    "def prime(n):\n",
    "    import math\n",
    "    i = 2\n",
    "    while i < max(math.sqrt(n),2):\n",
    "        if n%i != 0:\n",
    "            return True\n",
    "        else:\n",
    "            return False\n",
    " \n",
    "prime(7)"
   ]
  },
  {
   "cell_type": "code",
   "execution_count": 11,
   "id": "baa66772",
   "metadata": {},
   "outputs": [
    {
     "data": {
      "text/plain": [
       "True"
      ]
     },
     "execution_count": 11,
     "metadata": {},
     "output_type": "execute_result"
    }
   ],
   "source": [
    "prime(56963)"
   ]
  },
  {
   "cell_type": "code",
   "execution_count": 12,
   "id": "454ec14b",
   "metadata": {},
   "outputs": [
    {
     "data": {
      "text/plain": [
       "False"
      ]
     },
     "execution_count": 12,
     "metadata": {},
     "output_type": "execute_result"
    }
   ],
   "source": [
    "prime(5151512515524)"
   ]
  },
  {
   "cell_type": "markdown",
   "id": "a538a849",
   "metadata": {},
   "source": [
    "5. Create a function that converts a word to a bitstring and then to a boolean\n",
    "\n",
    "list based on the following criteria:\n",
    "\n",
    "1. Locate the position of the letter in the English alphabet (from 1 to 26).\n",
    "\n",
    "2. Odd positions will be represented as 1 and 0 otherwise.\n",
    "\n",
    "3. Convert the represented positions to boolean values, 1 for True and 0\n",
    "\n",
    "for False.\n",
    "\n",
    "4. Store the conversions into an array.\n",
    "\n",
    "Examples\n",
    "\n",
    "to_boolean_list(\"deep\") ➞ [False, True, True, False]\n",
    "\n",
    " # deep converts to 0110\n",
    "\n",
    " # d is the 4th alphabet - 0\n",
    "\n",
    " # e is the 5th alphabet - 1\n",
    "\n",
    " # e is the 5th alphabet - 1\n",
    "\n",
    " # p is the 16th alphabet - 0\n",
    "\n",
    "to_boolean_list(\"loves\") ➞ [False, True, False, True, True]\n",
    "\n",
    "to_boolean_list(\"tesh\") ➞ [False, True, True, False]"
   ]
  },
  {
   "cell_type": "code",
   "execution_count": 13,
   "id": "e362a89f",
   "metadata": {},
   "outputs": [],
   "source": [
    "def char_position(letter):\n",
    "    return ord(letter) - 96\n",
    "\n",
    "def to_boolean_list(s):\n",
    "    l = []\n",
    "    for i in s:\n",
    "        print(char_position(i))\n",
    "        if char_position(i)%2==0:\n",
    "            l.append(False)\n",
    "        else:\n",
    "            l.append(True)\n",
    "    return l\n"
   ]
  },
  {
   "cell_type": "code",
   "execution_count": 14,
   "id": "28520ca5",
   "metadata": {},
   "outputs": [
    {
     "name": "stdout",
     "output_type": "stream",
     "text": [
      "12\n",
      "15\n",
      "22\n",
      "5\n",
      "19\n"
     ]
    },
    {
     "data": {
      "text/plain": [
       "[False, True, False, True, True]"
      ]
     },
     "execution_count": 14,
     "metadata": {},
     "output_type": "execute_result"
    }
   ],
   "source": [
    "to_boolean_list(\"loves\")"
   ]
  },
  {
   "cell_type": "code",
   "execution_count": 15,
   "id": "20b3f69c",
   "metadata": {},
   "outputs": [
    {
     "name": "stdout",
     "output_type": "stream",
     "text": [
      "4\n",
      "5\n",
      "5\n",
      "16\n"
     ]
    },
    {
     "data": {
      "text/plain": [
       "[False, True, True, False]"
      ]
     },
     "execution_count": 15,
     "metadata": {},
     "output_type": "execute_result"
    }
   ],
   "source": [
    "to_boolean_list(\"deep\")"
   ]
  },
  {
   "cell_type": "code",
   "execution_count": 16,
   "id": "ee8f22e6",
   "metadata": {},
   "outputs": [
    {
     "name": "stdout",
     "output_type": "stream",
     "text": [
      "20\n",
      "5\n",
      "19\n",
      "8\n"
     ]
    },
    {
     "data": {
      "text/plain": [
       "[False, True, True, False]"
      ]
     },
     "execution_count": 16,
     "metadata": {},
     "output_type": "execute_result"
    }
   ],
   "source": [
    "to_boolean_list(\"tesh\")"
   ]
  },
  {
   "cell_type": "code",
   "execution_count": null,
   "id": "6291ae1a",
   "metadata": {},
   "outputs": [],
   "source": []
  }
 ],
 "metadata": {
  "kernelspec": {
   "display_name": "Python 3",
   "language": "python",
   "name": "python3"
  },
  "language_info": {
   "codemirror_mode": {
    "name": "ipython",
    "version": 3
   },
   "file_extension": ".py",
   "mimetype": "text/x-python",
   "name": "python",
   "nbconvert_exporter": "python",
   "pygments_lexer": "ipython3",
   "version": "3.8.8"
  }
 },
 "nbformat": 4,
 "nbformat_minor": 5
}
