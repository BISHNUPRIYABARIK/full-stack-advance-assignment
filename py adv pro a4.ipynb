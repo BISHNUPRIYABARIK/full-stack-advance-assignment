{
 "cells": [
  {
   "cell_type": "code",
   "execution_count": null,
   "id": "2e5640c4",
   "metadata": {},
   "outputs": [],
   "source": [
    "# 1. In mathematics, the Fibonacci numbers, commonly denoted Fn, form a sequence, called the Fibonacci sequence, such that each number is the sum of the two preceding ones, starting from 0 and 1:\n",
    "def fib_fast(n):\n",
    "    if n < 0:\n",
    "        print(\"Incorrect input\")\n",
    "    elif n == 0:\n",
    "        return 0\n",
    "    elif n == 1 or n == 2:\n",
    "        return 1\n",
    " \n",
    "    else:\n",
    "        return Fibonacci(n-1) + Fibonacci(n-2)\n",
    "    \n",
    "fib_fast(10)"
   ]
  },
  {
   "cell_type": "markdown",
   "id": "07c2c43c",
   "metadata": {},
   "source": [
    "55"
   ]
  },
  {
   "cell_type": "code",
   "execution_count": 2,
   "id": "fbbc289e",
   "metadata": {},
   "outputs": [
    {
     "data": {
      "text/plain": [
       "'68656c6c6f20776f726c64'"
      ]
     },
     "execution_count": 2,
     "metadata": {},
     "output_type": "execute_result"
    }
   ],
   "source": [
    "# 2. Create a function that takes a strings characters as ASCII and returns each characters hexadecimal value as a string.\n",
    "def convert_to_hex(ascii):\n",
    "\n",
    "    hexa = \"\"\n",
    "    for i in range(len(ascii)):\n",
    "        ch = ascii[i]\n",
    "        in1 = ord(ch)\n",
    "        part = hex(in1).lstrip(\"0x\").rstrip(\"L\")\n",
    "        hexa += part\n",
    "    return hexa\n",
    "\n",
    "convert_to_hex(\"hello world\")"
   ]
  },
  {
   "cell_type": "code",
   "execution_count": 3,
   "id": "2d0d05b4",
   "metadata": {},
   "outputs": [
    {
     "data": {
      "text/plain": [
       "'Where did my vowels go?'"
      ]
     },
     "execution_count": 3,
     "metadata": {},
     "output_type": "execute_result"
    }
   ],
   "source": [
    "#3. Someone has attempted to censor my strings by replacing every vowel with a *, l*k* th*s. Luckily, I've been able to find the vowels that were removed.Given a censored string and a string of the censored vowels, return the original uncensored string.\n",
    "\n",
    "\n",
    "def uncensor(string, vowels):\n",
    "  new = \"\"\n",
    "  counter = 0\n",
    "  for i in range(len(string)):\n",
    "    if string[i] == \"*\":\n",
    "      new += vowels[counter]\n",
    "      counter += 1\n",
    "    else:\n",
    "      new += string[i]\n",
    "  return new\n",
    "\n",
    "uncensor(\"Wh*r* d*d my v*w*ls g*?\", \"eeioeo\") "
   ]
  },
  {
   "cell_type": "code",
   "execution_count": 4,
   "id": "6ce4073d",
   "metadata": {},
   "outputs": [
    {
     "data": {
      "text/plain": [
       "'dns.google'"
      ]
     },
     "execution_count": 4,
     "metadata": {},
     "output_type": "execute_result"
    }
   ],
   "source": [
    "# 4. Write a function that takes an IP address and returns the domain name using PTR DNS records.\n",
    "def get_domain(ip_address):\n",
    "  import socket\n",
    "  result=socket.gethostbyaddr(ip_address)\n",
    "  return list(result)[0]\n",
    "\n",
    "get_domain(\"8.8.8.8\") "
   ]
  },
  {
   "cell_type": "code",
   "execution_count": null,
   "id": "339d453d",
   "metadata": {},
   "outputs": [],
   "source": [
    "# 5. Create a function that takes an integer n and returns the factorial of factorials. See below examples for a better understanding:\n",
    "\n",
    "def fact_of_fact(n):\n",
    "      \n",
    "    if n == 0:\n",
    "        return 1\n",
    "     \n",
    "    return n * factorial(n-1)\n",
    "\n",
    "fact_of_fact(5)"
   ]
  }
 ],
 "metadata": {
  "kernelspec": {
   "display_name": "Python 3",
   "language": "python",
   "name": "python3"
  },
  "language_info": {
   "codemirror_mode": {
    "name": "ipython",
    "version": 3
   },
   "file_extension": ".py",
   "mimetype": "text/x-python",
   "name": "python",
   "nbconvert_exporter": "python",
   "pygments_lexer": "ipython3",
   "version": "3.8.8"
  }
 },
 "nbformat": 4,
 "nbformat_minor": 5
}
