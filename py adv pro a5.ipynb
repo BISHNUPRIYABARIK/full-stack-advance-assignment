{
 "cells": [
  {
   "cell_type": "code",
   "execution_count": 1,
   "id": "a40b169c",
   "metadata": {},
   "outputs": [
    {
     "name": "stdout",
     "output_type": "stream",
     "text": [
      "8\n"
     ]
    }
   ],
   "source": [
    "# 1. Create a function that takes a number n (integer greater than zero) as an argument, and returns 2 if n is odd and 8 if n is even.\n",
    "def f(n):\n",
    "    num = int(n)\n",
    "    if (num % 2) == 0:\n",
    "       print(2)\n",
    "    else:\n",
    "       print(8)\n",
    "\n",
    "f(3)"
   ]
  },
  {
   "cell_type": "code",
   "execution_count": 2,
   "id": "ea79b5f2",
   "metadata": {},
   "outputs": [
    {
     "data": {
      "text/plain": [
       "'A'"
      ]
     },
     "execution_count": 2,
     "metadata": {},
     "output_type": "execute_result"
    }
   ],
   "source": [
    "# 2. Create a function that returns the majority vote in a list. A majority vote is an element that occurs > N/2 times in a list (where N is the length of the list).\n",
    "def majority(votes):\n",
    "    majority = None\n",
    "    majority_count = 0\n",
    "    for vote in votes:\n",
    "        if majority_count == 0:\n",
    "            majority = vote\n",
    "        if vote == majority:\n",
    "            majority_count += 1\n",
    "        else:\n",
    "            majority_count -= 1\n",
    "    return majority\n",
    "\n",
    "majority([\"A\", \"A\", \"A\", \"B\", \"C\", \"A\"]) "
   ]
  },
  {
   "cell_type": "code",
   "execution_count": 3,
   "id": "59c1e7d3",
   "metadata": {},
   "outputs": [],
   "source": [
    "# 5. Create a function that takes a list of numbers and returns the sum of all prime numbers in the list\n",
    "\n",
    "def sumprime(list):\n",
    "    sum =0\n",
    "    flag =1\n",
    "    for i in range(len(list)):\n",
    "        num = list[i]\n",
    "        for j in range(2, num):\n",
    "            if list[i]%j ==0:\n",
    "                flag = 0\n",
    "                break\n",
    "            else:\n",
    "                flag = 1\n",
    "        if num ==2:\n",
    "            flag =1\n",
    "        if flag ==1:\n",
    "            sum =sum +list[i]\n",
    "    return(sum)"
   ]
  },
  {
   "cell_type": "code",
   "execution_count": 4,
   "id": "0a6bc217",
   "metadata": {},
   "outputs": [
    {
     "data": {
      "text/plain": [
       "87"
      ]
     },
     "execution_count": 4,
     "metadata": {},
     "output_type": "execute_result"
    }
   ],
   "source": [
    "sumprime([2, 3, 4, 11, 20, 50, 71])"
   ]
  },
  {
   "cell_type": "code",
   "execution_count": null,
   "id": "eab290df",
   "metadata": {},
   "outputs": [],
   "source": []
  }
 ],
 "metadata": {
  "kernelspec": {
   "display_name": "Python 3",
   "language": "python",
   "name": "python3"
  },
  "language_info": {
   "codemirror_mode": {
    "name": "ipython",
    "version": 3
   },
   "file_extension": ".py",
   "mimetype": "text/x-python",
   "name": "python",
   "nbconvert_exporter": "python",
   "pygments_lexer": "ipython3",
   "version": "3.8.8"
  }
 },
 "nbformat": 4,
 "nbformat_minor": 5
}
